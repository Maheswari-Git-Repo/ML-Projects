{
 "cells": [
  {
   "cell_type": "markdown",
   "metadata": {},
   "source": [
    "# NaiveBaise Classifier On Amazon Mobile Reviews"
   ]
  },
  {
   "cell_type": "markdown",
   "metadata": {},
   "source": [
    "**Importing Required packages**"
   ]
  },
  {
   "cell_type": "code",
   "execution_count": 1,
   "metadata": {},
   "outputs": [],
   "source": [
    "import pandas as pd\n",
    "import re\n",
    "from nltk.corpus import stopwords\n",
    "import string\n",
    "from nltk.stem.snowball import SnowballStemmer"
   ]
  },
  {
   "cell_type": "markdown",
   "metadata": {},
   "source": [
    "**Reading the data file into a DATAFRAME and checking the shape **"
   ]
  },
  {
   "cell_type": "code",
   "execution_count": 2,
   "metadata": {},
   "outputs": [
    {
     "name": "stdout",
     "output_type": "stream",
     "text": [
      "(71922, 2)\n"
     ]
    }
   ],
   "source": [
    "\n",
    "data=pd.read_csv('35.1AmazonMobileDataUncleaned.csv')  ##, encoding='ISO-8859-1'\n",
    "print(data.shape)"
   ]
  },
  {
   "cell_type": "code",
   "execution_count": 3,
   "metadata": {},
   "outputs": [],
   "source": [
    "#data.drop(columns=['Unnamed: 2','Unnamed: 3','Unnamed: 3'], inplace=True)"
   ]
  },
  {
   "cell_type": "markdown",
   "metadata": {},
   "source": [
    "**Changing settings of data view**"
   ]
  },
  {
   "cell_type": "code",
   "execution_count": 4,
   "metadata": {},
   "outputs": [],
   "source": [
    "pd.set_option('display.max_rows', None)\n",
    "pd.set_option('display.max_columns', None)\n",
    "pd.set_option('display.width', 2000)\n",
    "pd.set_option('display.float_format', '{:20,.2f}'.format)\n",
    "pd.set_option('display.max_colwidth', 20000)"
   ]
  },
  {
   "cell_type": "code",
   "execution_count": 5,
   "metadata": {},
   "outputs": [],
   "source": [
    "#data.iloc[3245:3249,0:2]"
   ]
  },
  {
   "cell_type": "code",
   "execution_count": 6,
   "metadata": {},
   "outputs": [
    {
     "data": {
      "text/plain": [
       "Index(['uncleanedreview', 'decision'], dtype='object')"
      ]
     },
     "execution_count": 6,
     "metadata": {},
     "output_type": "execute_result"
    }
   ],
   "source": [
    "data.columns"
   ]
  },
  {
   "cell_type": "code",
   "execution_count": 7,
   "metadata": {},
   "outputs": [],
   "source": [
    "#data.drop(columns=['Unnamed: 4'], inplace=True)"
   ]
  },
  {
   "cell_type": "markdown",
   "metadata": {},
   "source": [
    "**Data Preprocessing**"
   ]
  },
  {
   "cell_type": "code",
   "execution_count": 8,
   "metadata": {},
   "outputs": [],
   "source": [
    "def datapreprocess(sen):\n",
    "    \n",
    "    sen = re.sub(r\"didn't\", \"did not\", sen)\n",
    "    sen = re.sub(r\"don't\", \"do not\", sen)\n",
    "    sen = re.sub(r\"won't\", \"will not\", sen)\n",
    "    sen = re.sub(r\"can't\", \"can not\", sen)\n",
    "    sen = re.sub(r\"wasn't\", \"do not\", sen)\n",
    "    sen = re.sub(r\"\\'ve\", \" have\", sen)\n",
    "    sen = re.sub(r\"\\'m\", \" am\", sen)\n",
    "    sen = re.sub(r\"\\'ll\", \" will\", sen)\n",
    "    sen = re.sub(r\"\\'re\", \" are\", sen)\n",
    "    sen = re.sub(r\"\\'s\", \" is\", sen)\n",
    "    sen = re.sub(r\"\\'d\", \" would\", sen)\n",
    "    sen = re.sub(r\"\\'t\", \" not\", sen)\n",
    "    sen = re.sub(r\"\\'m\", \" am\", sen)\n",
    "    sen = re.sub(r\"n\\'t\", \" not\", sen)\n",
    "    \n",
    "    p = set(string.punctuation) # p take all the punctuations, punctuations displayed below\n",
    "    sen=sen.lower() # convert text to lower case\n",
    "    words=sen.split() # split the text into words\n",
    "    ctext=[]\n",
    "    for i in range(10): #adding numbers from 0 - 9 to p \n",
    "        p.add(str(i))\n",
    "    for i in words:\n",
    "        t=''.join([x for x in i.encode(\"ascii\",\"ignore\").decode(\"ascii\") if x not in p]) # ignoring non ascii charecters and numbers\n",
    "        ctext.append(t)\n",
    "    return \" \".join([i for i in ctext]) # joining the cleaned words to text\n"
   ]
  },
  {
   "cell_type": "markdown",
   "metadata": {},
   "source": [
    "# Removing stop words"
   ]
  },
  {
   "cell_type": "code",
   "execution_count": 9,
   "metadata": {},
   "outputs": [],
   "source": [
    "stop=set(stopwords.words('english'))\n",
    "#print(stop)\n",
    "stop.remove('no')\n",
    "stop.remove('not')\n",
    "stop.remove('nor')\n",
    "\n",
    "preprocessed_essays = []\n",
    "for sentance in data['uncleanedreview'].values:\n",
    "    try:\n",
    "        ctxt=datapreprocess(str(sentance))\n",
    "        if len(ctxt)==0: raise()\n",
    "        ctxt = ' '.join(e for e in ctxt.split() if e not in stop)\n",
    "        preprocessed_essays.append(ctxt.lower().strip())\n",
    "    except:\n",
    "        preprocessed_essays.append(\"NAN\")  \n",
    "data['cleanedtext'] = preprocessed_essays"
   ]
  },
  {
   "cell_type": "markdown",
   "metadata": {},
   "source": [
    "**Dropping rows with NAN values after data processing**"
   ]
  },
  {
   "cell_type": "code",
   "execution_count": 10,
   "metadata": {},
   "outputs": [],
   "source": [
    "data.drop(data[data[\"cleanedtext\"]==\"NAN\"].index,axis = 0,inplace = True) # deleting rows that have no text \n",
    "data=data.reset_index(drop='true') # after deleting rows index should be reset\n",
    "data['decision']= data['decision'].replace('positive',1)\n",
    "data['decision']= data['decision'].replace('negative',0)"
   ]
  },
  {
   "cell_type": "markdown",
   "metadata": {},
   "source": [
    "**Stemming**"
   ]
  },
  {
   "cell_type": "code",
   "execution_count": 11,
   "metadata": {},
   "outputs": [],
   "source": [
    "s = SnowballStemmer(\"english\")\n",
    "p=[]\n",
    "for i in data['cleanedtext'].values:\n",
    "    k=[]\n",
    "    for word in i.split():\n",
    "        k.append(s.stem(word))\n",
    "    l=' '.join(k)\n",
    "    p.append(l)\n",
    "\n",
    "data['j']=p\n",
    "\n",
    "data.to_csv (r'AmazonMobileDataCleaned.csv')"
   ]
  },
  {
   "cell_type": "markdown",
   "metadata": {},
   "source": [
    "**Splitting data into train and test**"
   ]
  },
  {
   "cell_type": "code",
   "execution_count": 12,
   "metadata": {},
   "outputs": [
    {
     "name": "stdout",
     "output_type": "stream",
     "text": [
      "(71922, 5)\n",
      "(71922,)\n",
      "(71922, 4)\n",
      "------------------------------\n",
      "(57537, 4)\n",
      "(14385, 4)\n",
      "(57537,)\n",
      "(14385,)\n"
     ]
    }
   ],
   "source": [
    "data=pd.read_csv('AmazonMobileDataCleaned.csv')\n",
    "print(data.shape)\n",
    "label = data['decision'].values\n",
    "#print ('label', label)\n",
    "feedback = data.drop(['decision'], axis=1)\n",
    "print(label.shape)\n",
    "print(feedback.shape)\n",
    "print(\"------------------------------\")\n",
    "\n",
    "from sklearn.model_selection import train_test_split\n",
    "inputtrain, inputtest, outputtrain, outputtest = train_test_split(feedback, label, test_size=0.20) #, stratify=label\n",
    "print(inputtrain.shape)\n",
    "print(inputtest.shape)\n",
    "print(outputtrain.shape)\n",
    "print(outputtest.shape)"
   ]
  },
  {
   "cell_type": "markdown",
   "metadata": {},
   "source": [
    "**Checking for NUlls if any**"
   ]
  },
  {
   "cell_type": "code",
   "execution_count": 13,
   "metadata": {},
   "outputs": [
    {
     "data": {
      "text/plain": [
       "Unnamed: 0         0\n",
       "uncleanedreview    0\n",
       "cleanedtext        0\n",
       "j                  0\n",
       "dtype: int64"
      ]
     },
     "execution_count": 13,
     "metadata": {},
     "output_type": "execute_result"
    }
   ],
   "source": [
    "inputtrain[inputtrain['j']=='NAN'].count()"
   ]
  },
  {
   "cell_type": "code",
   "execution_count": 14,
   "metadata": {},
   "outputs": [
    {
     "data": {
      "text/plain": [
       "str"
      ]
     },
     "execution_count": 14,
     "metadata": {},
     "output_type": "execute_result"
    }
   ],
   "source": [
    "type(inputtrain['j'].iloc[0])"
   ]
  },
  {
   "cell_type": "markdown",
   "metadata": {},
   "source": [
    "**Conversion : Bag of Words**"
   ]
  },
  {
   "cell_type": "code",
   "execution_count": 15,
   "metadata": {},
   "outputs": [
    {
     "name": "stdout",
     "output_type": "stream",
     "text": [
      "After vectorizations\n",
      "(57537, 30691)\n",
      "(14385, 30691)\n",
      "(57537,)\n",
      "(14385,)\n"
     ]
    }
   ],
   "source": [
    "# convert into Bag of Words\n",
    "from sklearn.feature_extraction.text import CountVectorizer\n",
    "vec = CountVectorizer(min_df=10,ngram_range=(1,4))\n",
    "\n",
    "#need to convert the dtype object to unicode string\n",
    "vec.fit(inputtrain['j'].values) # fit has to happen only on train data \n",
    "\n",
    "train_cleanedtext = vec.transform(inputtrain['j'].values)\n",
    "test_cleanedtext= vec.transform(inputtest['j'].values)\n",
    "\n",
    "print(\"After vectorizations\")\n",
    "print(train_cleanedtext.shape)\n",
    "print(test_cleanedtext.shape)\n",
    "print(outputtrain.shape)\n",
    "print(outputtest.shape)"
   ]
  },
  {
   "cell_type": "code",
   "execution_count": 16,
   "metadata": {},
   "outputs": [
    {
     "data": {
      "text/plain": [
       "array([[0, 0, 0, ..., 0, 0, 0],\n",
       "       [0, 0, 0, ..., 0, 0, 0],\n",
       "       [0, 0, 0, ..., 0, 0, 0],\n",
       "       ...,\n",
       "       [0, 0, 0, ..., 0, 0, 0],\n",
       "       [0, 0, 0, ..., 0, 0, 0],\n",
       "       [0, 0, 0, ..., 0, 0, 0]], dtype=int64)"
      ]
     },
     "execution_count": 16,
     "metadata": {},
     "output_type": "execute_result"
    }
   ],
   "source": [
    "train_cleanedtext[0:12].toarray()"
   ]
  },
  {
   "cell_type": "markdown",
   "metadata": {},
   "source": [
    "# Modelling"
   ]
  },
  {
   "cell_type": "code",
   "execution_count": 17,
   "metadata": {},
   "outputs": [],
   "source": [
    "# Packages required\n",
    "# some of the code taken from stack overflow\n",
    "import math\n",
    "from sklearn.model_selection import GridSearchCV\n",
    "from sklearn.naive_bayes import MultinomialNB\n",
    "import numpy as np\n",
    "import matplotlib.pyplot as plt\n"
   ]
  },
  {
   "cell_type": "code",
   "execution_count": 18,
   "metadata": {},
   "outputs": [],
   "source": [
    "\n",
    "l=[0.5,0.5]# Taking equal prior probability values\n",
    "\n",
    "neigh = MultinomialNB(fit_prior='false',class_prior=l)#Taking Model Multinomial Naive Bayes\n",
    "\n",
    "\n",
    "alphas=np.array([0.0001,0.001,0.01,0.1,1,10,100,1000,10000]) # Different alpha values\n",
    "tuned_parameters = {'alpha' : alphas} # alpha values in a dictionary\n",
    "\n",
    "\n",
    "clf = GridSearchCV(neigh, tuned_parameters, cv=5, scoring='roc_auc',return_train_score='true') \n",
    "clf.fit(train_cleanedtext, outputtrain)\n",
    "\n",
    "results = pd.DataFrame.from_dict(clf.cv_results_)#please check the output of cv_results_\n",
    "#  gridsearchcv execution will understand. concepts required KFold cross validation\n",
    "results = results.sort_values(['param_alpha'])\n",
    "\n",
    "train_auc= results['mean_train_score']\n",
    "\n",
    "cv_auc = results['mean_test_score'] \n",
    "\n",
    "k =  results['param_alpha']\n"
   ]
  },
  {
   "cell_type": "code",
   "execution_count": 19,
   "metadata": {},
   "outputs": [],
   "source": [
    "#print (results)"
   ]
  },
  {
   "cell_type": "code",
   "execution_count": 20,
   "metadata": {},
   "outputs": [],
   "source": [
    "# alpha value is taken as log alpha value\n",
    "alpha1=[]\n",
    "for i in range(0,len(k),1):\n",
    "   l=math.log10(k[i])\n",
    "   alpha1.append(l)\n",
    "alpha1.sort()\n",
    "#print(alpha1)\n"
   ]
  },
  {
   "cell_type": "markdown",
   "metadata": {},
   "source": [
    "**Plot : Train AUC , Test AUC Vs Alpha**"
   ]
  },
  {
   "cell_type": "code",
   "execution_count": 21,
   "metadata": {
    "scrolled": true
   },
   "outputs": [
    {
     "data": {
      "image/png": "[encoded data removed]",
      "text/plain": [
       "<Figure size 432x288 with 1 Axes>"
      ]
     },
     "metadata": {},
     "output_type": "display_data"
    },
    {
     "name": "stdout",
     "output_type": "stream",
     "text": [
      "{'alpha': 1.0}\n",
      "0.8766669038193533\n",
      "best alpha log value\n",
      "0.0\n"
     ]
    }
   ],
   "source": [
    "plt.plot(alpha1, train_auc, label='Train AUC')# to connect lines to auc points\n",
    "plt.plot(alpha1, cv_auc, label='CV AUC')\n",
    "plt.scatter(alpha1, train_auc, label='Train AUC points')\n",
    "plt.scatter(alpha1, cv_auc, label='CV AUC points')\n",
    "\n",
    "plt.legend()\n",
    "plt.xlabel(\"log alpha base 10: hyperparameter\")\n",
    "plt.ylabel(\"AUC\")\n",
    "plt.title(\"ROCAUC Vs LOG Alpha plot\")\n",
    "plt.grid()\n",
    "plt.show()\n",
    "\n",
    "print(clf.best_params_)# pick the best alpha value\n",
    "print(clf.best_score_)\n",
    "print(\"best alpha log value\")\n",
    "a=math.log10(clf.best_params_.get('alpha'))\n",
    "print(a)\n"
   ]
  },
  {
   "cell_type": "markdown",
   "metadata": {},
   "source": [
    "** Training the model with best alpha and Predictions on test data**"
   ]
  },
  {
   "cell_type": "code",
   "execution_count": 22,
   "metadata": {},
   "outputs": [],
   "source": [
    "from sklearn.metrics import roc_curve, auc\n",
    "import seaborn as sns\n",
    "\n",
    "l=[0.5,0.5]\n",
    "neigh = MultinomialNB(alpha=1,fit_prior='false',class_prior=l)\n",
    "neigh.fit(train_cleanedtext, outputtrain)\n",
    "\n",
    "y_train_pred = neigh.predict_proba(train_cleanedtext)[:,1]    \n",
    "y_test_pred = neigh.predict_proba(test_cleanedtext)[:,1]\n",
    "#print(y_test_pred)\n",
    "train_fpr, train_tpr, tr_thresholds = roc_curve(outputtrain, y_train_pred)\n",
    "test_fpr, test_tpr, te_thresholds = roc_curve(outputtest, y_test_pred)\n"
   ]
  },
  {
   "cell_type": "code",
   "execution_count": 23,
   "metadata": {},
   "outputs": [
    {
     "data": {
      "text/plain": [
       "array([2.00000000e+00, 1.00000000e+00, 1.00000000e+00, ...,\n",
       "       1.87967831e-78, 1.12588993e-80, 3.03827003e-90])"
      ]
     },
     "execution_count": 23,
     "metadata": {},
     "output_type": "execute_result"
    }
   ],
   "source": [
    "tr_thresholds"
   ]
  },
  {
   "cell_type": "code",
   "execution_count": 24,
   "metadata": {},
   "outputs": [],
   "source": [
    "fpr, tpr, thresholds = roc_curve([0,1,1,0], [0.6,0.5,0.8,0.1])"
   ]
  },
  {
   "cell_type": "code",
   "execution_count": 25,
   "metadata": {},
   "outputs": [
    {
     "name": "stdout",
     "output_type": "stream",
     "text": [
      "fpr [0.  0.5 0.5 1. ]\n",
      "tpr [0.5 0.5 1.  1. ]\n",
      "thresholds [0.8 0.6 0.5 0.1]\n"
     ]
    }
   ],
   "source": [
    "print (\"fpr\", fpr)\n",
    "print (\"tpr\", tpr)\n",
    "print (\"thresholds\", thresholds)"
   ]
  },
  {
   "cell_type": "code",
   "execution_count": 26,
   "metadata": {},
   "outputs": [
    {
     "name": "stdout",
     "output_type": "stream",
     "text": [
      "[0.5  0.25 0.5  0.  ]\n",
      "0.8\n",
      "0.8\n"
     ]
    }
   ],
   "source": [
    "print (tpr*(1-fpr))\n",
    "print (thresholds[np.argmax(tpr*(1-fpr))])\n",
    "\n",
    "print(thresholds[np.argmax(0.5)])"
   ]
  },
  {
   "cell_type": "code",
   "execution_count": 27,
   "metadata": {},
   "outputs": [
    {
     "data": {
      "image/png": "[encoded data removed]",
      "text/plain": [
       "<Figure size 432x288 with 1 Axes>"
      ]
     },
     "metadata": {},
     "output_type": "display_data"
    }
   ],
   "source": [
    "plt.plot(fpr, tpr, label=\"train AUC =\"+str(auc(fpr, tpr)))\n",
    "#plt.plot(test_fpr, test_tpr, label=\"test AUC =\"+str(auc(test_fpr, test_tpr)))\n",
    "plt.legend()\n",
    "plt.xlabel(\"FPR\")\n",
    "plt.ylabel(\"TPR\")\n",
    "plt.title(\"ROC PLOT\")\n",
    "plt.grid()\n",
    "plt.show()\n"
   ]
  },
  {
   "cell_type": "markdown",
   "metadata": {},
   "source": [
    "**Testing AUC scores**"
   ]
  },
  {
   "cell_type": "code",
   "execution_count": 28,
   "metadata": {},
   "outputs": [
    {
     "data": {
      "image/png": "[encoded data removed]",
      "text/plain": [
       "<Figure size 432x288 with 1 Axes>"
      ]
     },
     "metadata": {},
     "output_type": "display_data"
    }
   ],
   "source": [
    "plt.plot(train_fpr, train_tpr, label=\"train AUC =\"+str(auc(train_fpr, train_tpr)))\n",
    "plt.plot(test_fpr, test_tpr, label=\"test AUC =\"+str(auc(test_fpr, test_tpr)))\n",
    "plt.legend()\n",
    "plt.xlabel(\"FPR\")\n",
    "plt.ylabel(\"TPR\")\n",
    "plt.title(\"ROC PLOT\")\n",
    "plt.grid()\n",
    "plt.show()\n"
   ]
  },
  {
   "cell_type": "code",
   "execution_count": 29,
   "metadata": {},
   "outputs": [],
   "source": [
    "# function to predict best threshold\n",
    "\n",
    "def bestthreshold(threshould, fpr, tpr):\n",
    "    t = threshould[np.argmax(tpr*(1-fpr))]\n",
    "    \n",
    "    print(\"the maximum value of tpr*(1-fpr)\", max(tpr*(1-fpr)), \"for threshold\", np.round(t,3))\n",
    "    return t\n",
    "\n",
    "def predictusingbestt(proba, threshould):#prediction using best threshold\n",
    "    predictions = []\n",
    "    for i in proba:\n",
    "        if i>=threshould:\n",
    "            predictions.append(1)\n",
    "        else:\n",
    "            predictions.append(0)\n",
    "    return predictions\n"
   ]
  },
  {
   "cell_type": "markdown",
   "metadata": {},
   "source": [
    "**Metric Evaluation**"
   ]
  },
  {
   "cell_type": "code",
   "execution_count": 42,
   "metadata": {
    "scrolled": false
   },
   "outputs": [
    {
     "name": "stdout",
     "output_type": "stream",
     "text": [
      "the maximum value of tpr*(1-fpr) 0.8054230036893693 for threshold 0.572\n",
      "Train confusion matrix\n"
     ]
    },
    {
     "data": {
      "image/png": "[encoded data removed]",
      "text/plain": [
       "<Figure size 432x288 with 2 Axes>"
      ]
     },
     "metadata": {},
     "output_type": "display_data"
    },
    {
     "name": "stdout",
     "output_type": "stream",
     "text": [
      "Test confusion matrix\n"
     ]
    },
    {
     "data": {
      "image/png": "[encoded data removed]",
      "text/plain": [
       "<Figure size 432x288 with 2 Axes>"
      ]
     },
     "metadata": {},
     "output_type": "display_data"
    }
   ],
   "source": [
    "from sklearn.metrics import confusion_matrix\n",
    "best_t = bestthreshold(tr_thresholds, train_fpr, train_tpr)\n",
    "\n",
    "print(\"Train confusion matrix\")\n",
    "ax = sns.heatmap(confusion_matrix(outputtrain, predictusingbestt(y_train_pred, best_t)),annot=True,fmt='d')\n",
    "ax.set_ylim([0,2])\n",
    "plt.ylabel('actual values')\n",
    "plt.xlabel('predicted values')\n",
    "plt.show()\n",
    "\n",
    "print(\"Test confusion matrix\")\n",
    "bx = sns.heatmap(confusion_matrix(outputtest, predictusingbestt(y_test_pred, best_t)),annot=True,fmt='d')\n",
    "bx.set_ylim([0,2])\n",
    "plt.ylabel('actual values')\n",
    "plt.xlabel('predicted values')\n",
    "plt.show()"
   ]
  },
  {
   "cell_type": "markdown",
   "metadata": {},
   "source": [
    "# Upsampling for imbalanced data"
   ]
  },
  {
   "cell_type": "code",
   "execution_count": 31,
   "metadata": {},
   "outputs": [
    {
     "name": "stdout",
     "output_type": "stream",
     "text": [
      "1    57512\n",
      "0    14410\n",
      "Name: decision, dtype: int64\n",
      "14410\n",
      "57512\n",
      "1    57512\n",
      "0    57512\n",
      "Name: decision, dtype: int64\n"
     ]
    }
   ],
   "source": [
    "from sklearn.utils import resample\n",
    "\n",
    "y_value_counts = data['decision'].value_counts()\n",
    "print(y_value_counts)\n",
    "count_class_1, count_class_0 = data['decision'].value_counts()\n",
    "print(count_class_0)\n",
    "print(count_class_1)\n",
    "\n",
    "df_class_1 = data[data['decision'] == 1]\n",
    "df_class_0 = data[data['decision'] == 0]\n",
    "\n",
    "minorityupsampled = resample(df_class_0,replace=True,n_samples=57512)\n",
    "\n",
    "upsampled = pd.concat([df_class_1, minorityupsampled])\n",
    "\n",
    "print(upsampled['decision'].value_counts())"
   ]
  },
  {
   "cell_type": "markdown",
   "metadata": {},
   "source": [
    "**Repeating the same steps after Upsampling**"
   ]
  },
  {
   "cell_type": "code",
   "execution_count": 32,
   "metadata": {},
   "outputs": [
    {
     "name": "stdout",
     "output_type": "stream",
     "text": [
      "(115024,)\n",
      "(115024, 4)\n",
      "------------------------------\n",
      "(92019, 4)\n",
      "(23005, 4)\n",
      "(92019,)\n",
      "(23005,)\n"
     ]
    }
   ],
   "source": [
    "label = upsampled['decision'].values\n",
    "feedback = upsampled.drop(['decision'], axis=1)\n",
    "print(label.shape)\n",
    "print(feedback.shape)\n",
    "print(\"------------------------------\")\n",
    "\n",
    "from sklearn.model_selection import train_test_split\n",
    "inputtrain, inputtest, outputtrain, outputtest = train_test_split(feedback, label, test_size=0.20, stratify=label)\n",
    "print(inputtrain.shape)\n",
    "print(inputtest.shape)\n",
    "print(outputtrain.shape)\n",
    "print(outputtest.shape)"
   ]
  },
  {
   "cell_type": "code",
   "execution_count": 33,
   "metadata": {},
   "outputs": [
    {
     "name": "stdout",
     "output_type": "stream",
     "text": [
      "After vectorizations\n",
      "(92019, 63317)\n",
      "(23005, 63317)\n",
      "(92019,)\n",
      "(23005,)\n",
      "...............................\n"
     ]
    }
   ],
   "source": [
    "# convert into Bag of Words\n",
    "from sklearn.feature_extraction.text import CountVectorizer\n",
    "vec = CountVectorizer(min_df=10,ngram_range=(1,4))\n",
    "vec.fit(inputtrain['j'].values) # fit has to happen only on train data\n",
    "\n",
    "\n",
    "train_cleanedtext = vec.transform(inputtrain['j'].values)\n",
    "test_cleanedtext= vec.transform(inputtest['j'].values)\n",
    "\n",
    "print(\"After vectorizations\")\n",
    "print(train_cleanedtext.shape)\n",
    "print(test_cleanedtext.shape)\n",
    "print(outputtrain.shape)\n",
    "print(outputtest.shape)\n",
    "print(\"...............................\")"
   ]
  },
  {
   "cell_type": "code",
   "execution_count": 34,
   "metadata": {},
   "outputs": [],
   "source": [
    "# Packages required\n",
    "# some of the code taken from stack overflow\n",
    "import math\n",
    "from sklearn.model_selection import GridSearchCV\n",
    "from sklearn.naive_bayes import MultinomialNB\n",
    "import numpy as np\n",
    "import matplotlib.pyplot as plt"
   ]
  },
  {
   "cell_type": "code",
   "execution_count": 35,
   "metadata": {},
   "outputs": [],
   "source": [
    "l=[0.5,0.5]# Taking equal prior probability values\n",
    "\n",
    "neigh = MultinomialNB(fit_prior='false',class_prior=l)#Taking Model Multinomial Naive Bayes\n",
    "\n",
    "\n",
    "alphas=np.array([0.0001,0.001,0.01,0.1,1,10,100,1000,10000]) # Different alpha values\n",
    "tuned_parameters = {'alpha' : alphas} # alpha values in a dictionary\n",
    "\n",
    "\n",
    "clf = GridSearchCV(neigh, tuned_parameters, cv=5, scoring='roc_auc',return_train_score='true') \n",
    "clf.fit(train_cleanedtext, outputtrain)\n",
    "\n",
    "results = pd.DataFrame.from_dict(clf.cv_results_)#please check the output of cv_results_\n",
    "#  gridsearchcv execution will understand. concepts required KFold cross validation\n",
    "results = results.sort_values(['param_alpha'])\n",
    "\n",
    "train_auc= results['mean_train_score']\n",
    "\n",
    "cv_auc = results['mean_test_score'] \n",
    "\n",
    "k =  results['param_alpha']"
   ]
  },
  {
   "cell_type": "code",
   "execution_count": 36,
   "metadata": {},
   "outputs": [],
   "source": [
    "# alpha value is taken as log alpha value\n",
    "alpha1=[]\n",
    "for i in range(0,len(k),1):\n",
    "   l=math.log10(k[i])\n",
    "   alpha1.append(l)\n",
    "alpha1.sort()\n",
    "#print(alpha1)\n"
   ]
  },
  {
   "cell_type": "code",
   "execution_count": 37,
   "metadata": {},
   "outputs": [
    {
     "data": {
      "image/png": "[encoded data removed]",
      "text/plain": [
       "<Figure size 432x288 with 1 Axes>"
      ]
     },
     "metadata": {},
     "output_type": "display_data"
    },
    {
     "name": "stdout",
     "output_type": "stream",
     "text": [
      "{'alpha': 0.0001}\n",
      "0.9251542451782092\n",
      "best alpha log value\n",
      "-4.0\n"
     ]
    }
   ],
   "source": [
    "plt.plot(alpha1, train_auc, label='Train AUC')# to connect lines to auc points\n",
    "plt.plot(alpha1, cv_auc, label='CV AUC')\n",
    "plt.scatter(alpha1, train_auc, label='Train AUC points')\n",
    "plt.scatter(alpha1, cv_auc, label='CV AUC points')\n",
    "\n",
    "plt.legend()\n",
    "plt.xlabel(\"log alpha base 10: hyperparameter\")\n",
    "plt.ylabel(\"AUC\")\n",
    "plt.title(\"ROCAUC Vs LOG Alpha plot\")\n",
    "plt.grid()\n",
    "plt.show()\n",
    "\n",
    "print(clf.best_params_)# pick the best alpha value\n",
    "print(clf.best_score_)\n",
    "print(\"best alpha log value\")\n",
    "a=math.log10(clf.best_params_.get('alpha'))\n",
    "print(a)"
   ]
  },
  {
   "cell_type": "markdown",
   "metadata": {},
   "source": [
    "**Training the model with best alpha value**"
   ]
  },
  {
   "cell_type": "code",
   "execution_count": 38,
   "metadata": {},
   "outputs": [
    {
     "data": {
      "image/png": "[encoded data removed]",
      "text/plain": [
       "<Figure size 432x288 with 1 Axes>"
      ]
     },
     "metadata": {},
     "output_type": "display_data"
    }
   ],
   "source": [
    "from sklearn.metrics import roc_curve, auc\n",
    "import seaborn as sns\n",
    "\n",
    "#l=[0.5,0.5]\n",
    "neigh = MultinomialNB(alpha=0.0001)\n",
    "neigh.fit(train_cleanedtext, outputtrain)\n",
    "\n",
    "y_train_pred = neigh.predict_proba(train_cleanedtext)[:,1]    \n",
    "y_test_pred = neigh.predict_proba(test_cleanedtext)[:,1]\n",
    "#print(y_test_pred)\n",
    "train_fpr, train_tpr, tr_thresholds = roc_curve(outputtrain, y_train_pred)\n",
    "test_fpr, test_tpr, te_thresholds = roc_curve(outputtest, y_test_pred)\n",
    "\n",
    "plt.plot(train_fpr, train_tpr, label=\"train AUC =\"+str(auc(train_fpr, train_tpr)))\n",
    "plt.plot(test_fpr, test_tpr, label=\"test AUC =\"+str(auc(test_fpr, test_tpr)))\n",
    "plt.legend()\n",
    "plt.xlabel(\"FPR\")\n",
    "plt.ylabel(\"TPR\")\n",
    "plt.title(\"ROC PLOT\")\n",
    "plt.grid()\n",
    "plt.show()\n"
   ]
  },
  {
   "cell_type": "code",
   "execution_count": 39,
   "metadata": {},
   "outputs": [],
   "source": [
    "def bestthreshold(threshould, fpr, tpr):# function to predict best threshold\n",
    "    t = threshould[np.argmax(tpr*(1-fpr))]\n",
    "    \n",
    "    print(\"the maximum value of tpr*(1-fpr)\", max(tpr*(1-fpr)), \"for threshold\", np.round(t,3))\n",
    "    return t\n",
    "\n",
    "def predictusingbestt(proba, threshould):#prediction using best threshold\n",
    "    predictions = []\n",
    "    for i in proba:\n",
    "        if i>=threshould:\n",
    "            predictions.append(1)\n",
    "        else:\n",
    "            predictions.append(0)\n",
    "    return predictions"
   ]
  },
  {
   "cell_type": "code",
   "execution_count": 40,
   "metadata": {},
   "outputs": [
    {
     "name": "stdout",
     "output_type": "stream",
     "text": [
      "the maximum value of tpr*(1-fpr) 0.8054230036893693 for threshold 0.572\n",
      "Train confusion matrix\n"
     ]
    },
    {
     "data": {
      "image/png": "[encoded data removed]",
      "text/plain": [
       "<Figure size 432x288 with 2 Axes>"
      ]
     },
     "metadata": {},
     "output_type": "display_data"
    },
    {
     "name": "stdout",
     "output_type": "stream",
     "text": [
      "Test confusion matrix\n"
     ]
    },
    {
     "data": {
      "image/png": "[encoded data removed]",
      "text/plain": [
       "<Figure size 432x288 with 2 Axes>"
      ]
     },
     "metadata": {},
     "output_type": "display_data"
    }
   ],
   "source": [
    "from sklearn.metrics import confusion_matrix\n",
    "best_t = bestthreshold(tr_thresholds, train_fpr, train_tpr)\n",
    "print(\"Train confusion matrix\")\n",
    "\n",
    "ax = sns.heatmap(confusion_matrix(outputtrain, predictusingbestt(y_train_pred, best_t)),annot=True,fmt='d')\n",
    "ax.set_ylim([0,2])\n",
    "plt.ylabel('actual values')\n",
    "plt.xlabel('predicted values')\n",
    "plt.show()\n",
    "print(\"Test confusion matrix\")\n",
    "\n",
    "\n",
    "bx = sns.heatmap(confusion_matrix(outputtest, predictusingbestt(y_test_pred, best_t)),annot=True,fmt='d')\n",
    "bx.set_ylim([0,2])\n",
    "plt.ylabel('actual values')\n",
    "plt.xlabel('predicted values')\n",
    "plt.show()"
   ]
  },
  {
   "cell_type": "code",
   "execution_count": null,
   "metadata": {},
   "outputs": [],
   "source": []
  }
 ],
 "metadata": {
  "kernelspec": {
   "display_name": "Python 3",
   "language": "python",
   "name": "python3"
  },
  "language_info": {
   "codemirror_mode": {
    "name": "ipython",
    "version": 3
   },
   "file_extension": ".py",
   "mimetype": "text/x-python",
   "name": "python",
   "nbconvert_exporter": "python",
   "pygments_lexer": "ipython3",
   "version": "3.6.5"
  }
 },
 "nbformat": 4,
 "nbformat_minor": 2
}
